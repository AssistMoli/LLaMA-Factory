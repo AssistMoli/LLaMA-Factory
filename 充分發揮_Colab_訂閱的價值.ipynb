{
  "cells": [
    {
      "cell_type": "markdown",
      "metadata": {
        "id": "view-in-github",
        "colab_type": "text"
      },
      "source": [
        "<a href=\"https://colab.research.google.com/github/AssistMoli/LLaMA-Factory/blob/main/%E5%85%85%E5%88%86%E7%99%BC%E6%8F%AE_Colab_%E8%A8%82%E9%96%B1%E7%9A%84%E5%83%B9%E5%80%BC.ipynb\" target=\"_parent\"><img src=\"https://colab.research.google.com/assets/colab-badge.svg\" alt=\"Open In Colab\"/></a>"
      ]
    },
    {
      "cell_type": "code",
      "source": [
        "!pip install requests==2.31.0\n",
        "!pip install bs4==0.0.2\n",
        "!pip install openai==0.28.0\n",
        "!pip install transformers==4.40.0\n",
        "!pip install fake_useragent==1.5.1\n",
        "!pip install selenium==4.19.0\n",
        "!pip install webdriver_manager==4.0.1\n",
        "!pip install xlsxwriter==3.2.0\n",
        "!apt-get update\n",
        "!apt install chromium-chromedriver"
      ],
      "metadata": {
        "id": "EkhC8-twgPjV"
      },
      "execution_count": null,
      "outputs": []
    },
    {
      "cell_type": "code",
      "source": [
        "import time\n",
        "from datetime import datetime\n",
        "\n",
        "from fake_useragent import UserAgent\n",
        "from selenium.webdriver.chrome.options import Options\n",
        "from selenium import webdriver\n",
        "from webdriver_manager.chrome import ChromeDriverManager\n",
        "\n",
        "import requests\n",
        "\n",
        "from bs4 import BeautifulSoup\n",
        "\n",
        "# 載入 openai 及 huggging face 套件\n",
        "import openai\n",
        "from transformers import pipeline\n",
        "\n",
        "# 關閉 warning\n",
        "import warnings\n",
        "from urllib3.exceptions import InsecureRequestWarning\n",
        "warnings.filterwarnings(\"ignore\", category=InsecureRequestWarning)\n",
        "\n",
        "import pandas as pd\n",
        "\n",
        "# 開啟雲端sheet服務\n",
        "from oauth2client.service_account import ServiceAccountCredentials\n",
        "import gspread\n",
        "scopes = [\"https://spreadsheets.google.com/feeds\"]\n",
        "credentials = ServiceAccountCredentials.from_json_keyfile_name(\"moli-linebot-fsc-penalty-258d250e683e.json\",scopes)\n",
        "sheet_service = gspread.authorize(credentials)\n",
        "\n",
        "# 開啟雲端資料夾服務\n",
        "from oauth2client.service_account import ServiceAccountCredentials\n",
        "from googleapiclient.discovery import build\n",
        "scope = ['https://www.googleapis.com/auth/drive']\n",
        "credentials = ServiceAccountCredentials.from_json_keyfile_name('moli-linebot-fsc-penalty-258d250e683e.json', scope)\n",
        "drive_service = build('drive', 'v3', credentials=credentials)\n",
        "\n",
        "from googleapiclient.http import MediaFileUpload, MediaIoBaseDownload\n",
        "\n",
        "import gspread_dataframe as gd\n",
        "\n"
      ],
      "metadata": {
        "id": "LRuyh2XQv_RR"
      },
      "execution_count": null,
      "outputs": []
    },
    {
      "cell_type": "code",
      "source": [
        "def track_execution(func):\n",
        "    def wrapper(*args, **kwargs):\n",
        "        start_time = time.time()  # Get the current time before calling the function\n",
        "        print(f\"Arguments passed to {func.__name__}: args={args}, kwargs={kwargs}\")\n",
        "        result = func(*args, **kwargs)\n",
        "        end_time = time.time()    # Get the current time after calling the function\n",
        "        elapsed_time = end_time - start_time  # Calculate the elapsed time\n",
        "        print(f\"Execution time for {func.__name__}: {elapsed_time:.4f} seconds\")\n",
        "        return result\n",
        "    return wrapper"
      ],
      "metadata": {
        "id": "_FCbDqI74ivg"
      },
      "execution_count": null,
      "outputs": []
    },
    {
      "cell_type": "code",
      "source": [
        "@track_execution\n",
        "def extract_chinese_names(ner_results):\n",
        "    chinese_names = []\n",
        "    current_name = ''\n",
        "    prev_index = None\n",
        "    prev_entity = None\n",
        "    for result in ner_results:\n",
        "        if ((prev_index is None) or (result['index'] == prev_index + 1)) and\\\n",
        "            ((prev_entity is None) or (  'E-PERSON' not in  prev_entity    )  )     :\n",
        "            if \"PERSON\" in result[\"entity\"]:\n",
        "                current_name += result[\"word\"]\n",
        "            else:\n",
        "                pass\n",
        "        else:\n",
        "            if current_name:\n",
        "                chinese_names.append(current_name)\n",
        "            if \"PERSON\" in result[\"entity\"]:\n",
        "                current_name = result['word']\n",
        "        prev_index = result['index']\n",
        "        prev_entity = result['entity']\n",
        "    if current_name:\n",
        "        chinese_names.append(current_name)\n",
        "    chinese_names = list(set(chinese_names))\n",
        "    return chinese_names\n"
      ],
      "metadata": {
        "id": "qBVZBajhf0uo"
      },
      "execution_count": null,
      "outputs": []
    },
    {
      "cell_type": "code",
      "source": [
        "@track_execution\n",
        "def query(token, url, government, title):\n",
        "\n",
        "    # ua = UserAgent()\n",
        "    # user_agent = ua.random\n",
        "    # chrome_options = Options()\n",
        "    # chrome_options.add_argument(f'user-agent={user_agent}')\n",
        "    # chrome_options.add_argument('--no-sandbox')\n",
        "    # chrome_options.add_argument('--headless')\n",
        "    # chrome_options.add_argument('--disable - gpu')\n",
        "    # chrome_options.add_argument('--disable-dev-shm-usage')\n",
        "    # #if env == \"colab\":\n",
        "    # #driver = webdriver.Chrome(options=chrome_options)\n",
        "    # #elif env == \"vm\":\n",
        "    # #    driver = webdriver.Chrome(executable_path=ChromeDriverManager().install(), chrome_options=chrome_options)\n",
        "    # driver = webdriver.Chrome(options=chrome_options)\n",
        "    # driver.get(url)\n",
        "    # driver.implicitly_wait(5)\n",
        "    # soup = BeautifulSoup(driver.page_source, \"html.parser\")\n",
        "    # text = soup.prettify() #driver.page_source\n",
        "    # driver.quit()\n",
        "\n",
        "    response = requests.get(url, verify=False)\n",
        "    time.sleep(5)\n",
        "    soup = BeautifulSoup(response.text, \"html.parser\")\n",
        "    text = soup.prettify()\n",
        "\n",
        "    # print(text)\n",
        "\n",
        "    max_len = 10000\n",
        "    generated_text = \"\"\n",
        "    for i in range(int(len(text)/max_len)+1):\n",
        "        openai.api_key = token\n",
        "        prompt = \"你是一個可以依照使用者提供的網頁HTML內容來回答使用者相關政府機關的現任首長是誰的機器人。如果你不確定，請你不要回答任何人名。\"\n",
        "        query = f\"請問，依照以下網頁HTML內容，目前的{government}{title}有誰？\\n{text[ i * max_len : (i+1) * max_len  ]}\"\n",
        "        model_id = \"gpt-3.5-turbo-0125\"\n",
        "        response = openai.ChatCompletion.create(\n",
        "        model=model_id,\n",
        "        messages=[\n",
        "            {\"role\": \"system\", \"content\": prompt},\n",
        "            {\"role\": \"user\", \"content\": query}\n",
        "        ],\n",
        "        temperature = 0\n",
        "        )\n",
        "        generated_text += response['choices'][0]['message']['content'].strip()\n",
        "\n",
        "    ner_pipeline = pipeline(\"ner\", model=\"ckiplab/bert-base-chinese-ner\", tokenizer=\"ckiplab/bert-base-chinese-ner\")\n",
        "    ner_results = ner_pipeline(generated_text)\n",
        "    chinese_names = extract_chinese_names(ner_results)\n",
        "\n",
        "    # return generated_text, chinese_names\n",
        "    return generated_text,  \"、\".join(chinese_names)\n"
      ],
      "metadata": {
        "id": "TgvCknsKuPTG"
      },
      "execution_count": null,
      "outputs": []
    },
    {
      "cell_type": "code",
      "source": [
        "@track_execution\n",
        "def extract_ner(row):\n",
        "    token = 'sk-proj-PtzqVLjRhAJdwHEJTm3GT3BlbkFJ3wn2P4MJwuQCwZseZ8aH'\n",
        "    url = row['連結']\n",
        "    governement = row['機關']\n",
        "    title = row['職稱']\n",
        "    generated_text, chinese_names = query(token, url, governement, title)\n",
        "    return chinese_names"
      ],
      "metadata": {
        "id": "G6ZPhiKxhbmC"
      },
      "execution_count": null,
      "outputs": []
    },
    {
      "cell_type": "code",
      "source": [
        "# to-do-list 這邊可能要優化，告訴使用者哪些人名有增減\n",
        "\n",
        "@track_execution\n",
        "def compare_ner(row):\n",
        "    if row.iloc[-3] != row.iloc[-2]:\n",
        "        return 'v'\n",
        "    else:\n",
        "        return ''\n",
        "\n",
        "\n"
      ],
      "metadata": {
        "id": "E7l0PxYUryOy"
      },
      "execution_count": null,
      "outputs": []
    },
    {
      "cell_type": "code",
      "source": [
        "def download_single_file(service, file_id, local_file_path, file_name):\n",
        "    \"\"\"\n",
        "    雲端將資料下載到本地端用\n",
        "    :param service: 認證用\n",
        "    :param file_id: 雲端檔案的id 可透過 update_file()取得\n",
        "    :param download_file_path: 將雲端上的資料下載到本地端的位置\n",
        "    :param download_file_name: 下載到本地端的名稱 e.g. 'hope/'\n",
        "    :return:\n",
        "    \"\"\"\n",
        "    from googleapiclient.http import MediaFileUpload, MediaIoBaseDownload\n",
        "    import io\n",
        "    if file_id is not None:\n",
        "        request = service.files().get_media(fileId=file_id) # os.path.join(download_file_path, download_drive_service_name)\n",
        "        fh = io.FileIO( os.path.join(local_file_path, file_name   ), 'wb')\n",
        "        downloader = MediaIoBaseDownload(fh, request)\n",
        "        done = False\n",
        "        while done is False:\n",
        "            status, done = downloader.next_chunk()\n",
        "        print('File downloaded!')\n",
        "    else:\n",
        "        print(\"File not found!\")\n",
        "\n",
        "def download_folder_file(service, folder_id , file_name, local_file_path):\n",
        "    \"\"\"\n",
        "    :param service:\n",
        "    :param folder_id:\n",
        "    :param download_file_path: e.g. 'hope/'\n",
        "    :return:\n",
        "    \"\"\"\n",
        "    query       = f\"parents = '{folder_id}' \"\n",
        "    response    = service.files().list( q = query ).execute()\n",
        "    files       = response.get(\"files\")\n",
        "    for file in files:\n",
        "        if file_name in file['name']:\n",
        "            download_single_file(service, file['id'], local_file_path, file['name'] )\n"
      ],
      "metadata": {
        "id": "8ulJeAovBUIp"
      },
      "execution_count": null,
      "outputs": []
    },
    {
      "cell_type": "code",
      "source": [
        "def extract_date(filename):\n",
        "    try:\n",
        "        return pd.to_datetime(filename.split('.')[0][:10], format='%Y-%m-%d')\n",
        "    except ValueError:\n",
        "        return pd.NaT"
      ],
      "metadata": {
        "id": "CLxqb0AMJQft"
      },
      "execution_count": null,
      "outputs": []
    },
    {
      "cell_type": "code",
      "source": [
        "# 從雲端下載上次檔案\n",
        "\n",
        "download_folder_file(drive_service, '1zcGFRK0ZATEDr7Ftm4ECwXaYWioPtQb4', 'pepsi', './')\n",
        "\n",
        "xlsx_files = [file for file in os.listdir('.') if file.endswith('.xlsx')]\n",
        "xlsx_files.sort(key=lambda x: extract_date(x), reverse=True)\n",
        "if len(xlsx_files) > 0:\n",
        "    latest_xlsx = xlsx_files[0]\n",
        "    print(f\"Latest .xlsx file: {latest_xlsx} !\")\n",
        "    df = pd.read_excel(latest_xlsx)\n",
        "    print(df)\n",
        "else:\n",
        "    print(\"No .xlsx files found in the current directory!\")\n"
      ],
      "metadata": {
        "id": "a-HUmOWyldwX"
      },
      "execution_count": null,
      "outputs": []
    },
    {
      "cell_type": "code",
      "source": [
        "# 依照檔案內連結，找出政治人物名稱，並判斷是否有異動\n",
        "\n",
        "today_date = datetime.now().date()\n",
        "today_date_str = today_date.strftime(\"%Y-%m-%d\")\n",
        "\n",
        "df = df.fillna('')\n",
        "\n",
        "df[f'{today_date_str}'] = df.apply(extract_ner, axis=1)\n",
        "\n",
        "df['異動'] = df.pop('異動') # 將'異動'欄位移動到最後一欄\n",
        "df['異動'] = df.apply(compare_ner, axis=1)\n",
        "\n",
        "\n",
        "\n",
        "\n"
      ],
      "metadata": {
        "id": "ComYecWjgFr2"
      },
      "execution_count": null,
      "outputs": []
    },
    {
      "cell_type": "code",
      "source": [
        "# 決定相關參數\n",
        "\n",
        "your_file_name =  today_date_str +\"-pepsi.xlsx\"\n",
        "your_column_widths = {'政治性職務範圍':50,   '機關': 25, '職稱': 25,'連結': 50,\"2023-06-07\":50   , f\"{today_date_str}\":50}\n",
        "\n",
        "your_sender = 'assist.moli@gmail.com'\n",
        "your_gmail_password =  'yvocyisentlrvsrq'\n",
        "\n",
        "sheet = sheet_service.open_by_key(\"14pGbpAdXFbQ-cypZ66drOHtp_iR4tbJCkrNwcsnycDw\").sheet1\n",
        "user  = gd.get_as_dataframe(sheet)\n",
        "your_mail_list   = user['usermail'].tolist()\n",
        "your_mail_list = ['brownwang@yuanta.com']\n",
        "\n",
        "your_subject = today_date_str + '-pepsi'\n",
        "your_body = \"\"\"\n",
        "您好：\n",
        "\n",
        "附檔為次 pepsi ，再懇請確認有打勾的異動部分。\n",
        "如連結或判斷有誤，請重新填寫後再寄給 brownwang@yuanta.com 。\n",
        "\n",
        "謝謝您。\n",
        "\n",
        "祝您有個愉快的一天\n",
        "Assist.MoLi 茉莉貓小助手 敬上\n",
        "\"\"\"\n",
        "\n",
        "your_attachments = [your_file_name]\n",
        "\n",
        "\n",
        "\n"
      ],
      "metadata": {
        "id": "y3u5lcBacErg"
      },
      "execution_count": null,
      "outputs": []
    },
    {
      "cell_type": "code",
      "source": [
        "# 調整格式並寄送郵件\n",
        "\n",
        "with pd.ExcelWriter(your_file_name, engine='xlsxwriter') as writer:\n",
        "    df.to_excel(writer, index=False, sheet_name='Sheet1')\n",
        "    workbook = writer.book\n",
        "    worksheet = writer.sheets['Sheet1']\n",
        "    for col_name, width in your_column_widths.items():\n",
        "        column_index = df.columns.get_loc(col_name)\n",
        "        worksheet.set_column(column_index, column_index, width)\n",
        "\n",
        "import os\n",
        "import sys\n",
        "import smtplib\n",
        "from email import encoders\n",
        "from email.mime.base import MIMEBase\n",
        "from email.mime.multipart import MIMEMultipart\n",
        "from email.mime.text import MIMEText\n",
        "\n",
        "sender = your_sender\n",
        "gmail_password = your_gmail_password\n",
        "recipients = your_mail_list\n",
        "\n",
        "outer = MIMEMultipart()\n",
        "outer['From'] = sender\n",
        "outer['To'] = ', '.join(recipients)\n",
        "outer.preamble = 'You will not see this in a MIME-aware mail reader.\\n'\n",
        "outer['Subject'] = your_subject\n",
        "body = your_body\n",
        "body = MIMEText(body)\n",
        "outer.attach(body)\n",
        "attachments = your_attachments\n",
        "for file in attachments:\n",
        "    try:\n",
        "        with open(file, 'rb') as fp:\n",
        "            print('open', file)\n",
        "            msg = MIMEBase('application', \"octet-stream\")\n",
        "            msg.set_payload(fp.read())\n",
        "        encoders.encode_base64(msg)\n",
        "        msg.add_header('Content-Disposition', 'attachment', filename=os.path.basename(file))\n",
        "        outer.attach(msg)\n",
        "    except:\n",
        "        print(\"Unable to open one of the attachments. Error: \", sys.exc_info()[0])\n",
        "        raise\n",
        "composed = outer.as_string()\n",
        "try:\n",
        "    with smtplib.SMTP('smtp.gmail.com', 587) as s:\n",
        "        s.ehlo()\n",
        "        s.starttls()\n",
        "        s.ehlo()\n",
        "        s.login(sender, gmail_password)\n",
        "        s.sendmail(sender, recipients, composed)\n",
        "        s.close()\n",
        "    print(\"Email sent!\")\n",
        "except:\n",
        "    print(\"Unable to send the email. Error: \", sys.exc_info()[0])\n",
        "    raise\n"
      ],
      "metadata": {
        "id": "Ksh3wWDYHea3"
      },
      "execution_count": null,
      "outputs": []
    },
    {
      "cell_type": "code",
      "source": [
        "# 將資料上傳到特定雲端資料夾\n",
        "\n",
        "file_metadata = {\n",
        "    'name': your_file_name,\n",
        "    'parents': ['1zcGFRK0ZATEDr7Ftm4ECwXaYWioPtQb4'],\n",
        "    'mimeType': 'application/vnd.openxmlformats-officedocument.spreadsheetml.sheet'\n",
        "}\n",
        "media = MediaFileUpload(your_file_name,\n",
        "                        mimetype='application/vnd.openxmlformats-officedocument.spreadsheetml.sheet',\n",
        "                        resumable=True)\n",
        "file = drive_service.files().create(body=file_metadata, media_body=media).execute()\n",
        "del file\n",
        "\n",
        "print('File uploaded!')"
      ],
      "metadata": {
        "id": "Xn0nYNqmHeRb"
      },
      "execution_count": null,
      "outputs": []
    },
    {
      "cell_type": "code",
      "source": [
        "# 刪除地端 .xlsx\n",
        "\n",
        "import os\n",
        "files = os.listdir('.')\n",
        "xlsx_files = [file for file in files if file.endswith('.xlsx')]\n",
        "for file in xlsx_files:\n",
        "    os.remove(file)\n",
        "print(\"All .xlsx files deleted!\")"
      ],
      "metadata": {
        "id": "zpEi3spbJ4l9"
      },
      "execution_count": null,
      "outputs": []
    },
    {
      "cell_type": "code",
      "source": [],
      "metadata": {
        "id": "ArQdx6-4KVQd"
      },
      "execution_count": null,
      "outputs": []
    }
  ],
  "metadata": {
    "colab": {
      "name": "充分發揮 Colab 訂閱的價值",
      "provenance": [],
      "include_colab_link": true
    },
    "kernelspec": {
      "display_name": "Python 3",
      "name": "python3"
    }
  },
  "nbformat": 4,
  "nbformat_minor": 0
}